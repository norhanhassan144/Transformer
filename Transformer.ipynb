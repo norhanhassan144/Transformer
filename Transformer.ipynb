{
 "cells": [
  {
   "cell_type": "code",
   "execution_count": 1,
   "id": "0ffd2e37",
   "metadata": {},
   "outputs": [
    {
     "name": "stdout",
     "output_type": "stream",
     "text": [
      "Self-Attention Scores:\n",
      "What: [0.1524501  0.1509332  0.14647245 0.18069984 0.1509332  0.21851121]\n",
      "are: [0.15121669 0.15273645 0.1482224  0.18285872 0.1482224  0.21674333]\n",
      "the: [0.14917602 0.15067527 0.15526401 0.18039105 0.15067527 0.21381838]\n",
      "symptoms: [0.12477969 0.12603375 0.12230889 0.19766026 0.12230889 0.30690852]\n",
      "of: [0.15203835 0.14902779 0.14902779 0.17841866 0.15356636 0.21792104]\n",
      "diabetes: [0.09808175 0.09710582 0.09423591 0.19949743 0.09710582 0.41397325]\n"
     ]
    }
   ],
   "source": [
    "import numpy as np\n",
    "\n",
    "sentence = \"What are the symptoms of diabetes?\"\n",
    "\n",
    "# Simulated word embeddings (in reality, we use pre-trained embeddings)\n",
    "word_vectors = {\n",
    "    \"What\": np.array([0.1, 0.2, 0.3]),\n",
    "    \"are\": np.array([0.2, 0.1, 0.3]),\n",
    "    \"the\": np.array([0.3, 0.2, 0.1]),\n",
    "    \"symptoms\": np.array([0.5, 0.4, 0.6]),\n",
    "    \"of\": np.array([0.1, 0.3, 0.2]),\n",
    "    \"diabetes\": np.array([0.7, 0.8, 0.9])\n",
    "}\n",
    "\n",
    "# Convert word vectors into a matrix\n",
    "keys = list(word_vectors.keys())\n",
    "values = np.array([word_vectors[k] for k in keys])\n",
    "\n",
    "# Compute self-attention scores using dot product\n",
    "attention_scores = np.dot(values, values.T)\n",
    "\n",
    "# Apply softmax to normalize scores\n",
    "def softmax(x):\n",
    "    exp_x = np.exp(x - np.max(x))  # Prevent overflow\n",
    "    return exp_x / exp_x.sum(axis=1, keepdims=True)\n",
    "\n",
    "attention_scores = softmax(attention_scores)\n",
    "\n",
    "print(\"Self-Attention Scores:\")\n",
    "for i, word in enumerate(keys):\n",
    "    print(f\"{word}: {attention_scores[i]}\")\n"
   ]
  },
  {
   "cell_type": "code",
   "execution_count": null,
   "id": "6f75bf56",
   "metadata": {},
   "outputs": [],
   "source": []
  }
 ],
 "metadata": {
  "kernelspec": {
   "display_name": "Python 3 (ipykernel)",
   "language": "python",
   "name": "python3"
  },
  "language_info": {
   "codemirror_mode": {
    "name": "ipython",
    "version": 3
   },
   "file_extension": ".py",
   "mimetype": "text/x-python",
   "name": "python",
   "nbconvert_exporter": "python",
   "pygments_lexer": "ipython3",
   "version": "3.11.4"
  }
 },
 "nbformat": 4,
 "nbformat_minor": 5
}
